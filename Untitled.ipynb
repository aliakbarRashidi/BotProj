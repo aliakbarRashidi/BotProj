{
 "cells": [
  {
   "cell_type": "code",
   "execution_count": 1,
   "metadata": {},
   "outputs": [],
   "source": [
    "from InstagramAPI import InstagramAPI\n",
    "import datetime"
   ]
  },
  {
   "cell_type": "code",
   "execution_count": 2,
   "metadata": {},
   "outputs": [
    {
     "name": "stdout",
     "output_type": "stream",
     "text": [
      "Login success!\n",
      "\n"
     ]
    },
    {
     "data": {
      "text/plain": [
       "True"
      ]
     },
     "execution_count": 2,
     "metadata": {},
     "output_type": "execute_result"
    }
   ],
   "source": [
    "api = InstagramAPI(\"virta_ps\", \"Pavel12291993\")\n",
    "api.login()"
   ]
  },
  {
   "cell_type": "code",
   "execution_count": 36,
   "metadata": {},
   "outputs": [],
   "source": [
    "def getTotalFollowers(api, user_id):\n",
    "    \"\"\"\n",
    "    Возвращает список подписчиков в инстагаме\n",
    "    \"\"\"\n",
    "\n",
    "    followers = []\n",
    "    next_max_id = True\n",
    "    while next_max_id:\n",
    "        # first iteration hack\n",
    "        if next_max_id is True:\n",
    "            next_max_id = ''\n",
    "\n",
    "        _ = api.getUserFollowers(user_id, maxid=next_max_id)\n",
    "        followers.extend(api.LastJson.get('users', []))\n",
    "        next_max_id = api.LastJson.get('next_max_id', '')\n",
    "    true_followers = []\n",
    "    for follower in followers:\n",
    "        true_followers.append({'user_id': follower['pk'], 'username': follower['username'], 'is_private': follower['is_private']})\n",
    "    \n",
    "    return true_followers"
   ]
  },
  {
   "cell_type": "code",
   "execution_count": 37,
   "metadata": {},
   "outputs": [],
   "source": [
    "def getTotalFollowing(api, user_id):\n",
    "    \"\"\"\n",
    "    Возвращает список последователей в инстагаме\n",
    "    \"\"\"\n",
    "    \n",
    "    following = []\n",
    "    next_max_id = True\n",
    "    while next_max_id:\n",
    "        # first iteration hack\n",
    "        if next_max_id is True:\n",
    "            next_max_id = ''\n",
    "        _ = api.getUserFollowings(user_id, maxid=next_max_id)\n",
    "        following.extend(api.LastJson.get('users', []))\n",
    "        next_max_id = api.LastJson.get('next_max_id', '')\n",
    "    true_following = []\n",
    "    for user in following:\n",
    "        true_following.append({'user_id': user['pk'], 'username': user['username'], 'is_private': user['is_private']})\n",
    "        \n",
    "    return true_following"
   ]
  },
  {
   "cell_type": "code",
   "execution_count": 38,
   "metadata": {},
   "outputs": [],
   "source": [
    "def get_likers(api, post_id):\n",
    "    \"\"\"\n",
    "    Возвращает список лайкнувших пост пользователей\n",
    "    \"\"\"\n",
    "    \n",
    "    sucsess = True\n",
    "    while sucsess:\n",
    "        _ = api.getMediaLikers(post_id)\n",
    "        answer = api.LastJson\n",
    "        if answer['status'] == 'ok':\n",
    "            sucsess = False\n",
    "\n",
    "    likers = []\n",
    "    users = answer['users']\n",
    "    for user in users:\n",
    "        likers.append({'user_id': user['pk'], 'username': user['username'], 'is_private': user['is_private']})\n",
    "    return likers"
   ]
  },
  {
   "cell_type": "code",
   "execution_count": 39,
   "metadata": {},
   "outputs": [],
   "source": [
    "def get_user_posts(api, user_id):\n",
    "    \"\"\"\n",
    "    Возвращает последние посты пользователя\n",
    "    \"\"\"\n",
    "    \n",
    "    user_posts = []\n",
    "    sucsess = True\n",
    "    next_max_id = ''\n",
    "    while sucsess:\n",
    "        _ = api.getUserFeed(user_id, maxid=next_max_id)\n",
    "        user_posts.extend(api.LastJson.get('items'))\n",
    "        next_max_id = api.LastJson.get('next_max_id', '')\n",
    "        if next_max_id == '':\n",
    "            sucsess = False\n",
    "            \n",
    "    return user_posts"
   ]
  },
  {
   "cell_type": "code",
   "execution_count": 40,
   "metadata": {},
   "outputs": [],
   "source": [
    "def get_statistick(post):\n",
    "    \"\"\"\n",
    "    Возвращает данные о посте\n",
    "    \"\"\"\n",
    "        \n",
    "    post_id = post['id']\n",
    "    like_count = post['like_count']\n",
    "    comment_count = post['comment_count']\n",
    "    filter_type = post['filter_type']\n",
    "    has_liked = post['has_liked']\n",
    "    has_more_comments = post['has_more_comments']\n",
    "    try:\n",
    "        date_post = datetime.datetime.fromtimestamp(int(post['device_timestamp']/1000000)).strftime('%Y-%m-%d %H:%M:%S')\n",
    "    except OSError:\n",
    "        try:\n",
    "            date_post = datetime.datetime.fromtimestamp(int(post['device_timestamp'])).strftime('%Y-%m-%d %H:%M:%S')\n",
    "        except:\n",
    "            date_post = datetime.datetime.today().strftime('%Y-%m-%d %H:%M:%S')\n",
    "            print(post['device_timestamp'])\n",
    "    try:\n",
    "        post_lng = post['lng']\n",
    "        post_lat = post['lat']\n",
    "    except:\n",
    "        post_lng = 0\n",
    "        post_lat = 0\n",
    "    try:\n",
    "        add_loc_lng = post['location']['lng']\n",
    "        add_loc_lat = post['location']['lat']\n",
    "        add_loc_name = post['location']['name']\n",
    "    except:\n",
    "        add_loc_lng = 0\n",
    "        add_loc_lat = 0\n",
    "        add_loc_name = 0\n",
    "    \n",
    "    likers = get_likers(api, post_id)\n",
    "    \n",
    "    answer = {\n",
    "        'post_id':post_id,\n",
    "        'like_count': like_count,\n",
    "        'comment_count': comment_count,\n",
    "        'filter_type': filter_type,\n",
    "        'has_liked': has_liked,\n",
    "        'has_more_comments': has_more_comments,\n",
    "        'post_lng': post_lng,\n",
    "        'post_lat': post_lat,\n",
    "        'add_loc_lng': add_loc_lng,\n",
    "        'add_loc_lat': add_loc_lat,\n",
    "        'add_loc_name':add_loc_name,\n",
    "        'date_post':date_post,\n",
    "        'likers': likers\n",
    "    }\n",
    "    return answer"
   ]
  },
  {
   "cell_type": "code",
   "execution_count": 41,
   "metadata": {},
   "outputs": [],
   "source": [
    "def get_s_w_stat(follrs, follws):\n",
    "    \"\"\"\n",
    "    Возвращает два коэффициента, относящихся к вероятности быть зафоловленным в ответ\n",
    "    \"\"\"\n",
    "    mutual = 0\n",
    "    for follower in follrs:\n",
    "        if follower in follws:\n",
    "                mutual += 1\n",
    "    # соотношение последователей с подписчиками\n",
    "    # если коэффициент больше 1, то человек имеет больше подписок, чем подписчиков\n",
    "    # скорее всего такой человек вероятнее всего подпишется в ответ\n",
    "    ratio_fw_fr = round(len(follws) / len(follrs), 2)\n",
    "    # процент взаимных подписок\n",
    "    # чем больше коэффициент, тем вероятнее взаимная подписка\n",
    "    mutual_per = round(mutual / len(follrs),2)\n",
    "    \n",
    "    return ratio_s_w, mutual_per"
   ]
  },
  {
   "cell_type": "code",
   "execution_count": 42,
   "metadata": {},
   "outputs": [],
   "source": [
    "def get_like_stat(stat_post, follrs):\n",
    "    \"\"\"\n",
    "    Возвращает два показателя, описывающие приверженность подписчиков пользователю и среднее количество лайков на пост\n",
    "    \"\"\"\n",
    "    \n",
    "    adherence_per = 0\n",
    "    adherence_count = 0\n",
    "    all_like = 0\n",
    "    for post in stat_post:\n",
    "        for like in post['likers']:\n",
    "            if like['user_id'] in follrs:\n",
    "                adherence_count += 1\n",
    "            all_like += 1\n",
    "\n",
    "    # коэффициент приверженности подписчиков\n",
    "    adherence_per = round(adherence_count / len(stat_post) / len(follrs), 2)\n",
    "    # коэффициент генерирования лайков, среднее количество лайков на пост\n",
    "    like_per_post = round(all_like / len(stat_post) , 2)\n",
    "    \n",
    "    return adherence_per, like_per_post"
   ]
  },
  {
   "cell_type": "code",
   "execution_count": 43,
   "metadata": {},
   "outputs": [],
   "source": [
    "def create_data(followers, following, posts):\n",
    "\n",
    "    #Преобразование для более простого оперирования списками\n",
    "    follrs = []\n",
    "    for follower in followers:\n",
    "        follrs.append(follower['user_id'])\n",
    "\n",
    "    follws = []\n",
    "    for follow in following:\n",
    "        follws.append(follow['user_id'])\n",
    "\n",
    "    stat_post = []\n",
    "    for post in posts:\n",
    "        stat_post.append(get_statistick(post))\n",
    "        \n",
    "    return follrs, follws, stat_post"
   ]
  },
  {
   "cell_type": "code",
   "execution_count": 44,
   "metadata": {},
   "outputs": [],
   "source": [
    "def get_likable(api, user_id, followers):\n",
    "    user_like = 0\n",
    "    user_post = 0\n",
    "    for follower in followers:\n",
    "        if follower['is_private'] == False:\n",
    "            prov_user = follower['user_id']\n",
    "            prov_followers = getTotalFollowers(api, prov_user)\n",
    "            prov_following = getTotalFollowing(api, prov_user)\n",
    "            prov_posts = get_user_posts(api, prov_user)\n",
    "            p_follrs, p_follws, p_stat_post = create_data(prov_followers, prov_following, prov_posts)\n",
    "            for post in p_stat_post:\n",
    "                date_post = datetime.datetime.strptime(post['date_post'], '%Y-%m-%d %H:%M:%S')\n",
    "                days_ago = (datetime.datetime.today()-datetime.timedelta(10)).replace(hour=0, minute=0, second=0)\n",
    "                if date_post >= days_ago:\n",
    "                    for like in post['likers']:\n",
    "                        if like['user_id'] == user_id:\n",
    "                            user_like += 1\n",
    "                    user_post += 1\n",
    "    # коэффициент лайкабельности, грубо лайк на пост\n",
    "    likable = round(user_like / user_post, 2)\n",
    "    return likable"
   ]
  },
  {
   "cell_type": "code",
   "execution_count": null,
   "metadata": {},
   "outputs": [
    {
     "name": "stdout",
     "output_type": "stream",
     "text": [
      "61692613483\n",
      "57514469893\n",
      "37392196132\n",
      "47664340583\n",
      "36952978881\n"
     ]
    }
   ],
   "source": [
    "user_id = '1164660127'\n",
    "followers = getTotalFollowers(api, user_id)\n",
    "following = getTotalFollowing(api, user_id)\n",
    "posts = get_user_posts(api, user_id)\n",
    "follrs, follws, stat_post = create_data(followers, following, posts)\n",
    "ratio_s_w, mutual_per = get_s_w_stat(follrs, follws) # коэф. соотношения послед/подписчиков и взаимной подписки\n",
    "adherence_per, like_per_post = get_like_stat(stat_post, follrs) # коэф. приверженности подписчиков и лайков на пост\n",
    "likable = get_likable(api, user_id, followers) # коэффициент лайкабельности"
   ]
  },
  {
   "cell_type": "code",
   "execution_count": 3,
   "metadata": {},
   "outputs": [],
   "source": [
    "def add_to_base(table_name: str, columns: list, values: list):\n",
    "        \"\"\"\n",
    "        Функция для добавления строки в базу данных\n",
    "        \"\"\"\n",
    "        print(table_name, columns, values)\n",
    "        print(type(table_name), type(columns), type(values))"
   ]
  },
  {
   "cell_type": "code",
   "execution_count": 11,
   "metadata": {},
   "outputs": [],
   "source": [
    "change_columns = {'user':1, 'post':2}\n",
    "change_columns_insert = ''\n",
    "for key, value in change_columns.items():\n",
    "    change_columns_insert += str(key) + '=' + str(value) + ', '\n",
    "change_columns_insert = change_columns_insert[:-2]"
   ]
  },
  {
   "cell_type": "code",
   "execution_count": 20,
   "metadata": {},
   "outputs": [],
   "source": [
    "where = False"
   ]
  },
  {
   "cell_type": "code",
   "execution_count": 21,
   "metadata": {},
   "outputs": [],
   "source": [
    "where_column = {'id':1, 'boms':'sex'}"
   ]
  },
  {
   "cell_type": "code",
   "execution_count": 22,
   "metadata": {},
   "outputs": [],
   "source": [
    "if where == True:\n",
    "    # Формирование выборки для вставки в sql запрос\n",
    "    where_column_insert = ''\n",
    "    for key, value in where_column.items():\n",
    "        where_column_insert += str(key) + '=' + str(value) + ', '\n",
    "    where_column_insert = where_column_insert[:-2]\n",
    "    sql_where = \"\"\" WHERE {0}\"\"\".format(where_column_insert)\n",
    "else:\n",
    "    sql_where = ''\n",
    "\n",
    "sql_req = '''DELETE FROM {0}{1};'''.format(table_name, sql_where)"
   ]
  },
  {
   "cell_type": "code",
   "execution_count": 23,
   "metadata": {},
   "outputs": [
    {
     "data": {
      "text/plain": [
       "'DELETE FROM foo;'"
      ]
     },
     "execution_count": 23,
     "metadata": {},
     "output_type": "execute_result"
    }
   ],
   "source": [
    "sql_req"
   ]
  },
  {
   "cell_type": "code",
   "execution_count": 4,
   "metadata": {},
   "outputs": [
    {
     "data": {
      "text/plain": [
       "True"
      ]
     },
     "execution_count": 4,
     "metadata": {},
     "output_type": "execute_result"
    }
   ],
   "source": [
    "api.getSelfUsernameInfo()"
   ]
  },
  {
   "cell_type": "code",
   "execution_count": 14,
   "metadata": {},
   "outputs": [
    {
     "data": {
      "text/plain": [
       "True"
      ]
     },
     "execution_count": 14,
     "metadata": {},
     "output_type": "execute_result"
    }
   ],
   "source": [
    "api.getLocationFeed(598476186)"
   ]
  },
  {
   "cell_type": "code",
   "execution_count": 45,
   "metadata": {},
   "outputs": [],
   "source": [
    "followers = getTotalFollowers(api, 1164660127)"
   ]
  },
  {
   "cell_type": "code",
   "execution_count": 46,
   "metadata": {},
   "outputs": [
    {
     "data": {
      "text/plain": [
       "[{'is_private': True, 'user_id': 2922419768, 'username': 'glazova_tmn'},\n",
       " {'is_private': True, 'user_id': 582092715, 'username': 'juliemaryhunter'},\n",
       " {'is_private': True, 'user_id': 5460589943, 'username': 'sara_jane_frandsen'},\n",
       " {'is_private': False, 'user_id': 3517319742, 'username': 'nezabudka72rf'},\n",
       " {'is_private': False, 'user_id': 268879085, 'username': 'anastasia_i1'},\n",
       " {'is_private': False, 'user_id': 1607172376, 'username': 'icesmoke.tmn'},\n",
       " {'is_private': False,\n",
       "  'user_id': 1709850560,\n",
       "  'username': 'alekseeva_photographer'},\n",
       " {'is_private': False, 'user_id': 1463316762, 'username': 'mergyn'},\n",
       " {'is_private': False, 'user_id': 1121488984, 'username': 'ellalovaa'},\n",
       " {'is_private': True, 'user_id': 360551525, 'username': 'uliyakorobko'},\n",
       " {'is_private': True, 'user_id': 535960686, 'username': 'shishkinakri'},\n",
       " {'is_private': True, 'user_id': 201008558, 'username': 'innaskosyrskikh'},\n",
       " {'is_private': True, 'user_id': 459185024, 'username': 'allakachur'},\n",
       " {'is_private': True, 'user_id': 391959582, 'username': 'mschernykh'},\n",
       " {'is_private': False, 'user_id': 289212237, 'username': 'antoninachub'},\n",
       " {'is_private': True, 'user_id': 389886767, 'username': 'ann_kst'},\n",
       " {'is_private': False, 'user_id': 7473375431, 'username': 'cottagenatalia'},\n",
       " {'is_private': False, 'user_id': 1969704498, 'username': 'pq3k5e5iy'},\n",
       " {'is_private': False,\n",
       "  'user_id': 1384862398,\n",
       "  'username': 'medvedevaevdokija6'},\n",
       " {'is_private': False, 'user_id': 456434190, 'username': 'jannydillan'},\n",
       " {'is_private': True, 'user_id': 1120709800, 'username': 'juliazarudnaya'},\n",
       " {'is_private': True, 'user_id': 3866885077, 'username': '________hi____hgg'},\n",
       " {'is_private': True, 'user_id': 4062298047, 'username': 'lyubafan'},\n",
       " {'is_private': True, 'user_id': 342868187, 'username': 'marina_rashitovna'},\n",
       " {'is_private': True, 'user_id': 39296099, 'username': 'tendernessa'},\n",
       " {'is_private': True, 'user_id': 349783726, 'username': '_olya_bodnar'},\n",
       " {'is_private': True, 'user_id': 491244049, 'username': 'ruben9s'},\n",
       " {'is_private': False, 'user_id': 177332930, 'username': 'sergey_7_'},\n",
       " {'is_private': False,\n",
       "  'user_id': 4297120187,\n",
       "  'username': 'tubing_chelyabinsk'},\n",
       " {'is_private': False, 'user_id': 1280919283, 'username': 'uralmarket'},\n",
       " {'is_private': False, 'user_id': 270826626, 'username': 'alisagumarovna'},\n",
       " {'is_private': True, 'user_id': 1127345074, 'username': '72pomestnomu'},\n",
       " {'is_private': False,\n",
       "  'user_id': 5689438942,\n",
       "  'username': 'buketaromatdykhaniia_ekb'},\n",
       " {'is_private': False, 'user_id': 4862955623, 'username': 'chocolatier_tmn'},\n",
       " {'is_private': False,\n",
       "  'user_id': 5560343872,\n",
       "  'username': 'vekaterinburg_rozy_bukety'},\n",
       " {'is_private': False, 'user_id': 509994647, 'username': 'vishenka_irena'},\n",
       " {'is_private': True, 'user_id': 2541242301, 'username': 'hebibov_vuqar'},\n",
       " {'is_private': True, 'user_id': 3916456155, 'username': 'garik8042'},\n",
       " {'is_private': False, 'user_id': 4845878455, 'username': 'bezvoloskov'},\n",
       " {'is_private': False, 'user_id': 3626709594, 'username': 'paradiz72'},\n",
       " {'is_private': True,\n",
       "  'user_id': 1192758261,\n",
       "  'username': 'iana_vladimirovnaaaaaaa'},\n",
       " {'is_private': False, 'user_id': 2981380128, 'username': 'bessmertnyy1'},\n",
       " {'is_private': False, 'user_id': 2641891958, 'username': 'sushi_72kenobi'},\n",
       " {'is_private': False, 'user_id': 1386096899, 'username': 'zhenjalapina_14'},\n",
       " {'is_private': True, 'user_id': 501365476, 'username': 'e_bryzgalova'},\n",
       " {'is_private': True, 'user_id': 223563095, 'username': 'spirin_family'},\n",
       " {'is_private': True, 'user_id': 350302829, 'username': 'pestova_ir'},\n",
       " {'is_private': False, 'user_id': 2305631973, 'username': 'kumulbrand'},\n",
       " {'is_private': False, 'user_id': 5275412525, 'username': 'nasa_kondra'},\n",
       " {'is_private': False, 'user_id': 7538902307, 'username': 'sharik.mari'},\n",
       " {'is_private': False, 'user_id': 4714266560, 'username': 'mariiashavina'},\n",
       " {'is_private': False, 'user_id': 1820384298, 'username': 'sessia_off.ru'},\n",
       " {'is_private': False,\n",
       "  'user_id': 2081075106,\n",
       "  'username': 'navigator_tyumen72'},\n",
       " {'is_private': False, 'user_id': 3956873049, 'username': 'nimalen1309'},\n",
       " {'is_private': False, 'user_id': 235464491, 'username': 'olegus1994'},\n",
       " {'is_private': False, 'user_id': 1459594885, 'username': 'stepanovaeva4'},\n",
       " {'is_private': False, 'user_id': 7583900778, 'username': 'perevalovosad'},\n",
       " {'is_private': False, 'user_id': 2128261451, 'username': 'teplo_72'},\n",
       " {'is_private': True, 'user_id': 2164174988, 'username': 'la6ri_siniqpa'},\n",
       " {'is_private': False, 'user_id': 3602545836, 'username': 'ramses_stan'},\n",
       " {'is_private': False, 'user_id': 1428512702, 'username': 'semcvetov72'},\n",
       " {'is_private': False, 'user_id': 7323665949, 'username': 'sergei86129'},\n",
       " {'is_private': False, 'user_id': 3045683504, 'username': 'do4a.com_nvrsk'},\n",
       " {'is_private': False, 'user_id': 3475102827, 'username': 'tatiana_kushina'},\n",
       " {'is_private': False, 'user_id': 4266900921, 'username': 'uralsalut_tmn'},\n",
       " {'is_private': False,\n",
       "  'user_id': 5689268614,\n",
       "  'username': 'tsvety_v_ekbizyskannyivkus'},\n",
       " {'is_private': False, 'user_id': 1451471859, 'username': 'vitaliyloginov_53'},\n",
       " {'is_private': False, 'user_id': 1397415162, 'username': '7mikheevayana'},\n",
       " {'is_private': False, 'user_id': 634836256, 'username': 'julinaymi'},\n",
       " {'is_private': True, 'user_id': 401342843, 'username': 'idi_pospi'}]"
      ]
     },
     "execution_count": 46,
     "metadata": {},
     "output_type": "execute_result"
    }
   ],
   "source": [
    "followers"
   ]
  },
  {
   "cell_type": "code",
   "execution_count": null,
   "metadata": {},
   "outputs": [],
   "source": []
  },
  {
   "cell_type": "code",
   "execution_count": null,
   "metadata": {},
   "outputs": [],
   "source": []
  },
  {
   "cell_type": "code",
   "execution_count": null,
   "metadata": {},
   "outputs": [],
   "source": []
  },
  {
   "cell_type": "code",
   "execution_count": null,
   "metadata": {},
   "outputs": [],
   "source": []
  }
 ],
 "metadata": {
  "kernelspec": {
   "display_name": "Python 3",
   "language": "python",
   "name": "python3"
  },
  "language_info": {
   "codemirror_mode": {
    "name": "ipython",
    "version": 3
   },
   "file_extension": ".py",
   "mimetype": "text/x-python",
   "name": "python",
   "nbconvert_exporter": "python",
   "pygments_lexer": "ipython3",
   "version": "3.6.4"
  }
 },
 "nbformat": 4,
 "nbformat_minor": 2
}
