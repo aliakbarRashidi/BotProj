{
 "cells": [
  {
   "cell_type": "code",
   "execution_count": 1,
   "metadata": {},
   "outputs": [],
   "source": [
    "from InstagramAPI import InstagramAPI\n",
    "import datetime"
   ]
  },
  {
   "cell_type": "code",
   "execution_count": 2,
   "metadata": {},
   "outputs": [
    {
     "name": "stdout",
     "output_type": "stream",
     "text": [
      "Request return 429 error!\n",
      "{'message': 'Please wait a few minutes before you try again.', 'status': 'fail'}\n",
      "Login success!\n",
      "\n"
     ]
    },
    {
     "data": {
      "text/plain": [
       "True"
      ]
     },
     "execution_count": 2,
     "metadata": {},
     "output_type": "execute_result"
    }
   ],
   "source": [
    "api = InstagramAPI(\"virta_ps\", \"Pavel12291993\")\n",
    "api.login()"
   ]
  },
  {
   "cell_type": "code",
   "execution_count": 68,
   "metadata": {},
   "outputs": [],
   "source": [
    "def getTotalFollowers(api, user_id):\n",
    "    \"\"\"\n",
    "    Возвращает список подписчиков в инстагаме\n",
    "    \"\"\"\n",
    "\n",
    "    followers = []\n",
    "    next_max_id = True\n",
    "    while next_max_id:\n",
    "        # first iteration hack\n",
    "        if next_max_id is True:\n",
    "            next_max_id = ''\n",
    "\n",
    "        _ = api.getUserFollowers(user_id, maxid=next_max_id)\n",
    "        followers.extend(api.LastJson.get('users', []))\n",
    "        next_max_id = api.LastJson.get('next_max_id', '')\n",
    "    true_followers = []\n",
    "    for follower in followers:\n",
    "        true_followers.append({'user_id': follower['pk'], 'username': follower['username'], 'is_private': follower['is_private']})\n",
    "    \n",
    "    return true_followers"
   ]
  },
  {
   "cell_type": "code",
   "execution_count": 69,
   "metadata": {},
   "outputs": [],
   "source": [
    "def getTotalFollowing(api, user_id):\n",
    "    \"\"\"\n",
    "    Возвращает список последователей в инстагаме\n",
    "    \"\"\"\n",
    "    \n",
    "    following = []\n",
    "    next_max_id = True\n",
    "    while next_max_id:\n",
    "        # first iteration hack\n",
    "        if next_max_id is True:\n",
    "            next_max_id = ''\n",
    "        _ = api.getUserFollowings(user_id, maxid=next_max_id)\n",
    "        following.extend(api.LastJson.get('users', []))\n",
    "        next_max_id = api.LastJson.get('next_max_id', '')\n",
    "    true_following = []\n",
    "    for user in following:\n",
    "        true_following.append({'user_id': user['pk'], 'username': user['username'], 'is_private': user['is_private']})\n",
    "        \n",
    "    return true_following"
   ]
  },
  {
   "cell_type": "code",
   "execution_count": 70,
   "metadata": {},
   "outputs": [],
   "source": [
    "def get_likers(api, post_id):\n",
    "    \"\"\"\n",
    "    Возвращает список лайкнувших пост пользователей\n",
    "    \"\"\"\n",
    "    \n",
    "    sucsess = True\n",
    "    while sucsess:\n",
    "        _ = api.getMediaLikers(post_id)\n",
    "        answer = api.LastJson\n",
    "        if answer['status'] == 'ok':\n",
    "            sucsess = False\n",
    "\n",
    "    likers = []\n",
    "    users = answer['users']\n",
    "    for user in users:\n",
    "        likers.append({'user_id': user['pk'], 'username': user['username'], 'is_private': user['is_private']})\n",
    "    return likers"
   ]
  },
  {
   "cell_type": "code",
   "execution_count": 71,
   "metadata": {},
   "outputs": [],
   "source": [
    "def get_user_posts(api, user_id):\n",
    "    \"\"\"\n",
    "    Возвращает последние посты пользователя\n",
    "    \"\"\"\n",
    "    \n",
    "    user_posts = []\n",
    "    sucsess = True\n",
    "    next_max_id = ''\n",
    "    while sucsess:\n",
    "        _ = api.getUserFeed(user_id, maxid=next_max_id)\n",
    "        user_posts.extend(api.LastJson.get('items'))\n",
    "        next_max_id = api.LastJson.get('next_max_id', '')\n",
    "        if next_max_id == '':\n",
    "            sucsess = False\n",
    "            \n",
    "    return user_posts"
   ]
  },
  {
   "cell_type": "code",
   "execution_count": 159,
   "metadata": {},
   "outputs": [],
   "source": [
    "def get_statistick(post):\n",
    "    \"\"\"\n",
    "    Возвращает данные о посте\n",
    "    \"\"\"\n",
    "        \n",
    "    post_id = post['id']\n",
    "    like_count = post['like_count']\n",
    "    comment_count = post['comment_count']\n",
    "    filter_type = post['filter_type']\n",
    "    has_liked = post['has_liked']\n",
    "    has_more_comments = post['has_more_comments']\n",
    "    try:\n",
    "        date_post = datetime.datetime.fromtimestamp(int(post['device_timestamp']/1000000)).strftime('%Y-%m-%d %H:%M:%S')\n",
    "    except OSError:\n",
    "        try:\n",
    "            date_post = datetime.datetime.fromtimestamp(int(post['device_timestamp'])).strftime('%Y-%m-%d %H:%M:%S')\n",
    "        except:\n",
    "            date_post = datetime.datetime.today().strftime('%Y-%m-%d %H:%M:%S')\n",
    "            print(post['device_timestamp'])\n",
    "    try:\n",
    "        post_lng = post['lng']\n",
    "        post_lat = post['lat']\n",
    "    except:\n",
    "        post_lng = 0\n",
    "        post_lat = 0\n",
    "    try:\n",
    "        add_loc_lng = post['location']['lng']\n",
    "        add_loc_lat = post['location']['lat']\n",
    "        add_loc_name = post['location']['name']\n",
    "    except:\n",
    "        add_loc_lng = 0\n",
    "        add_loc_lat = 0\n",
    "        add_loc_name = 0\n",
    "    \n",
    "    likers = get_likers(api, post_id)\n",
    "    \n",
    "    answer = {\n",
    "        'post_id':post_id,\n",
    "        'like_count': like_count,\n",
    "        'comment_count': comment_count,\n",
    "        'filter_type': filter_type,\n",
    "        'has_liked': has_liked,\n",
    "        'has_more_comments': has_more_comments,\n",
    "        'post_lng': post_lng,\n",
    "        'post_lat': post_lat,\n",
    "        'add_loc_lng': add_loc_lng,\n",
    "        'add_loc_lat': add_loc_lat,\n",
    "        'add_loc_name':add_loc_name,\n",
    "        'date_post':date_post,\n",
    "        'likers': likers\n",
    "    }\n",
    "    return answer"
   ]
  },
  {
   "cell_type": "code",
   "execution_count": 160,
   "metadata": {},
   "outputs": [],
   "source": [
    "def get_s_w_stat(follrs, follws):\n",
    "    \"\"\"\n",
    "    Возвращает два коэффициента, относящихся к вероятности быть зафоловленным в ответ\n",
    "    \"\"\"\n",
    "    mutual = 0\n",
    "    for follower in follrs:\n",
    "        if follower in follws:\n",
    "                mutual += 1\n",
    "    # соотношение последователей с подписчиками\n",
    "    # если коэффициент больше 1, то человек имеет больше подписок, чем подписчиков\n",
    "    # скорее всего такой человек вероятнее всего подпишется в ответ\n",
    "    ratio_fw_fr = round(len(follws) / len(follrs), 2)\n",
    "    # процент взаимных подписок\n",
    "    # чем больше коэффициент, тем вероятнее взаимная подписка\n",
    "    mutual_per = round(mutual / len(follrs),2)\n",
    "    \n",
    "    return ratio_s_w, mutual_per"
   ]
  },
  {
   "cell_type": "code",
   "execution_count": 161,
   "metadata": {},
   "outputs": [],
   "source": [
    "def get_like_stat(stat_post, follrs):\n",
    "    \"\"\"\n",
    "    Возвращает два показателя, описывающие приверженность подписчиков пользователю и среднее количество лайков на пост\n",
    "    \"\"\"\n",
    "    \n",
    "    adherence_per = 0\n",
    "    adherence_count = 0\n",
    "    all_like = 0\n",
    "    for post in stat_post:\n",
    "        for like in post['likers']:\n",
    "            if like['user_id'] in follrs:\n",
    "                adherence_count += 1\n",
    "            all_like += 1\n",
    "\n",
    "    # коэффициент приверженности подписчиков\n",
    "    adherence_per = round(adherence_count / len(stat_post) / len(follrs), 2)\n",
    "    # коэффициент генерирования лайков, среднее количество лайков на пост\n",
    "    like_per_post = round(all_like / len(stat_post) , 2)\n",
    "    \n",
    "    return adherence_per, like_per_post"
   ]
  },
  {
   "cell_type": "code",
   "execution_count": 162,
   "metadata": {},
   "outputs": [],
   "source": [
    "def create_data(followers, following, posts):\n",
    "\n",
    "    #Преобразование для более простого оперирования списками\n",
    "    follrs = []\n",
    "    for follower in followers:\n",
    "        follrs.append(follower['user_id'])\n",
    "\n",
    "    follws = []\n",
    "    for follow in following:\n",
    "        follws.append(follow['user_id'])\n",
    "\n",
    "    stat_post = []\n",
    "    for post in posts:\n",
    "        stat_post.append(get_statistick(post))\n",
    "        \n",
    "    return follrs, follws, stat_post"
   ]
  },
  {
   "cell_type": "code",
   "execution_count": 164,
   "metadata": {},
   "outputs": [],
   "source": [
    "def get_likable(api, user_id, followers):\n",
    "    user_like = 0\n",
    "    user_post = 0\n",
    "    for follower in followers:\n",
    "        if follower['is_private'] == False:\n",
    "            prov_user = follower['user_id']\n",
    "            prov_followers = getTotalFollowers(api, prov_user)\n",
    "            prov_following = getTotalFollowing(api, prov_user)\n",
    "            prov_posts = get_user_posts(api, prov_user)\n",
    "            p_follrs, p_follws, p_stat_post = create_data(prov_followers, prov_following, prov_posts)\n",
    "            for post in p_stat_post:\n",
    "                date_post = datetime.datetime.strptime(post['date_post'], '%Y-%m-%d %H:%M:%S')\n",
    "                days_ago = (datetime.datetime.today()-datetime.timedelta(10)).replace(hour=0, minute=0, second=0)\n",
    "                if date_post >= days_ago:\n",
    "                    for like in post['likers']:\n",
    "                        if like['user_id'] == user_id:\n",
    "                            user_like += 1\n",
    "                    user_post += 1\n",
    "    # коэффициент лайкабельности, грубо лайк на пост\n",
    "    likable = round(user_like / user_post, 2)\n",
    "    return likable"
   ]
  },
  {
   "cell_type": "code",
   "execution_count": null,
   "metadata": {},
   "outputs": [
    {
     "name": "stdout",
     "output_type": "stream",
     "text": [
      "61692613483\n",
      "57514469893\n",
      "37392196132\n",
      "47664340583\n",
      "36952978881\n"
     ]
    }
   ],
   "source": [
    "user_id = '1164660127'\n",
    "followers = getTotalFollowers(api, user_id)\n",
    "following = getTotalFollowing(api, user_id)\n",
    "posts = get_user_posts(api, user_id)\n",
    "follrs, follws, stat_post = create_data(followers, following, posts)\n",
    "ratio_s_w, mutual_per = get_s_w_stat(follrs, follws) # коэф. соотношения послед/подписчиков и взаимной подписки\n",
    "adherence_per, like_per_post = get_like_stat(stat_post, follrs) # коэф. приверженности подписчиков и лайков на пост\n",
    "likable = get_likable(api, user_id, followers) # коэффициент лайкабельности"
   ]
  },
  {
   "cell_type": "code",
   "execution_count": 3,
   "metadata": {},
   "outputs": [],
   "source": [
    "def add_to_base(table_name: str, columns: list, values: list):\n",
    "        \"\"\"\n",
    "        Функция для добавления строки в базу данных\n",
    "        \"\"\"\n",
    "        print(table_name, columns, values)\n",
    "        print(type(table_name), type(columns), type(values))"
   ]
  },
  {
   "cell_type": "code",
   "execution_count": 11,
   "metadata": {},
   "outputs": [],
   "source": [
    "change_columns = {'user':1, 'post':2}\n",
    "change_columns_insert = ''\n",
    "for key, value in change_columns.items():\n",
    "    change_columns_insert += str(key) + '=' + str(value) + ', '\n",
    "change_columns_insert = change_columns_insert[:-2]"
   ]
  },
  {
   "cell_type": "code",
   "execution_count": 20,
   "metadata": {},
   "outputs": [],
   "source": [
    "where = False"
   ]
  },
  {
   "cell_type": "code",
   "execution_count": 21,
   "metadata": {},
   "outputs": [],
   "source": [
    "where_column = {'id':1, 'boms':'sex'}"
   ]
  },
  {
   "cell_type": "code",
   "execution_count": 22,
   "metadata": {},
   "outputs": [],
   "source": [
    "if where == True:\n",
    "    # Формирование выборки для вставки в sql запрос\n",
    "    where_column_insert = ''\n",
    "    for key, value in where_column.items():\n",
    "        where_column_insert += str(key) + '=' + str(value) + ', '\n",
    "    where_column_insert = where_column_insert[:-2]\n",
    "    sql_where = \"\"\" WHERE {0}\"\"\".format(where_column_insert)\n",
    "else:\n",
    "    sql_where = ''\n",
    "\n",
    "sql_req = '''DELETE FROM {0}{1};'''.format(table_name, sql_where)"
   ]
  },
  {
   "cell_type": "code",
   "execution_count": 23,
   "metadata": {},
   "outputs": [
    {
     "data": {
      "text/plain": [
       "'DELETE FROM foo;'"
      ]
     },
     "execution_count": 23,
     "metadata": {},
     "output_type": "execute_result"
    }
   ],
   "source": [
    "sql_req"
   ]
  },
  {
   "cell_type": "code",
   "execution_count": null,
   "metadata": {},
   "outputs": [],
   "source": []
  }
 ],
 "metadata": {
  "kernelspec": {
   "display_name": "Python 3",
   "language": "python",
   "name": "python3"
  },
  "language_info": {
   "codemirror_mode": {
    "name": "ipython",
    "version": 3
   },
   "file_extension": ".py",
   "mimetype": "text/x-python",
   "name": "python",
   "nbconvert_exporter": "python",
   "pygments_lexer": "ipython3",
   "version": "3.5.2"
  }
 },
 "nbformat": 4,
 "nbformat_minor": 2
}
